{
 "cells": [
  {
   "cell_type": "markdown",
   "metadata": {},
   "source": [
    "# Final Project: this script imports x,y coordinates and cell_id from multiple Posxx-xx.txt files, to label corresponding frames from Posxx{channel}.tif movie and output Posxx{channel}.mp4 tracking videos"
   ]
  },
  {
   "cell_type": "markdown",
   "metadata": {},
   "source": [
    "## 1) Link to input data\n",
    "Free and open to anyone:"
   ]
  },
  {
   "cell_type": "code",
   "execution_count": null,
   "metadata": {},
   "outputs": [],
   "source": [
    "# Enter link here."
   ]
  },
  {
   "cell_type": "markdown",
   "metadata": {},
   "source": [
    "## 3) Import your data\n",
    "In the space below, import your data.\n",
    "If your data span multiple files, read them all in.\n",
    "If applicable, merge or append them as needed."
   ]
  },
  {
   "cell_type": "code",
   "execution_count": 1,
   "metadata": {},
   "outputs": [
    {
     "name": "stdout",
     "output_type": "stream",
     "text": [
      "Duplicate Rows based on a single column are:\n",
      "            name                              Label  Area         X        Y  \\\n",
      "98    Pos001-002  Pos001CFP-2.tif:0029-0695-0590:29   360   590.408  696.250   \n",
      "99    Pos001-002  Pos001CFP-2.tif:0030-0681-0635:30   176   635.574  681.489   \n",
      "901   Pos001-015  Pos001CFP-1.tif:0026-0534-1018:26     1  1018.500  534.500   \n",
      "1175  Pos001-019  Pos001CFP-2.tif:0073-0416-0522:73   610   522.495  416.569   \n",
      "1892  Pos002-006  Pos002CFP-2.tif:0073-0335-0587:73   319   586.472  335.133   \n",
      "2177  Pos002-010  Pos002CFP-2.tif:0073-0777-0113:73   326   113.218  777.270   \n",
      "\n",
      "      Division  frame Position cell_id  \n",
      "98           0     29   Pos001     002  \n",
      "99           0     30   Pos001     002  \n",
      "901          0     26   Pos001     015  \n",
      "1175         0     73   Pos001     019  \n",
      "1892         0     73   Pos002     006  \n",
      "2177         0     73   Pos002     010  \n"
     ]
    }
   ],
   "source": [
    "import pandas as pd\n",
    "from pathlib import Path\n",
    "ROI_dir_name = 'ROI'\n",
    "\n",
    "#Find all 'Posxx-xx.txt files in the sub_folder ROI_dir_name' and extract info from filename and contents\n",
    "logs = pd.DataFrame()\n",
    "ROI_path = Path(ROI_dir_name)\n",
    "\n",
    "for file in ROI_path.glob('Pos*-*.txt'):\n",
    "    data = pd.read_csv(file, delimiter='\\s+')\n",
    "    #add a new column that stores filenames\n",
    "    data.insert(0,'name',file.stem)\n",
    "    logs = logs.append(data, ignore_index=True)\n",
    "\n",
    "# extract 'frame' 'Position' 'cell_id' from the files\n",
    "logs['frame'] = (logs['Label'].str.extract(r'tif.[0-9]{1,4}-[0-9]{1,4}-[0-9]{1,4}:(?P<frame>\\d{1,3})')).astype(int)\n",
    "logs[['Position','cell_id']] = logs['name'].str.extract(r'(?P<Pos>Pos[0-9]{1,3})-(?P<id>[0-9]{1,3})')\n",
    "logs_output = logs.drop_duplicates(subset=['name', 'frame'],keep='last',ignore_index=True)\n",
    "\n",
    "# find out the duplicates and only keep the last one\n",
    "duplicateRowsDF = logs[logs.duplicated(subset=['name', 'frame'],keep='last')]\n",
    "print(\"Duplicate Rows based on a single column are:\", duplicateRowsDF, sep='\\n')"
   ]
  },
  {
   "cell_type": "code",
   "execution_count": null,
   "metadata": {},
   "outputs": [],
   "source": []
  },
  {
   "cell_type": "markdown",
   "metadata": {},
   "source": [
    "## 4) Show me the head of your data."
   ]
  },
  {
   "cell_type": "code",
   "execution_count": 2,
   "metadata": {},
   "outputs": [
    {
     "data": {
      "text/html": [
       "<div>\n",
       "<style scoped>\n",
       "    .dataframe tbody tr th:only-of-type {\n",
       "        vertical-align: middle;\n",
       "    }\n",
       "\n",
       "    .dataframe tbody tr th {\n",
       "        vertical-align: top;\n",
       "    }\n",
       "\n",
       "    .dataframe thead th {\n",
       "        text-align: right;\n",
       "    }\n",
       "</style>\n",
       "<table border=\"1\" class=\"dataframe\">\n",
       "  <thead>\n",
       "    <tr style=\"text-align: right;\">\n",
       "      <th></th>\n",
       "      <th>name</th>\n",
       "      <th>Label</th>\n",
       "      <th>Area</th>\n",
       "      <th>X</th>\n",
       "      <th>Y</th>\n",
       "      <th>Division</th>\n",
       "      <th>frame</th>\n",
       "      <th>Position</th>\n",
       "      <th>cell_id</th>\n",
       "    </tr>\n",
       "  </thead>\n",
       "  <tbody>\n",
       "    <tr>\n",
       "      <th>0</th>\n",
       "      <td>Pos001-001</td>\n",
       "      <td>Pos001CFP-2.tif:0001-0651-0302:1</td>\n",
       "      <td>473</td>\n",
       "      <td>302.196</td>\n",
       "      <td>651.117</td>\n",
       "      <td>0</td>\n",
       "      <td>1</td>\n",
       "      <td>Pos001</td>\n",
       "      <td>001</td>\n",
       "    </tr>\n",
       "    <tr>\n",
       "      <th>1</th>\n",
       "      <td>Pos001-001</td>\n",
       "      <td>Pos001CFP-2.tif:0002-0688-0324:2</td>\n",
       "      <td>436</td>\n",
       "      <td>324.420</td>\n",
       "      <td>688.135</td>\n",
       "      <td>0</td>\n",
       "      <td>2</td>\n",
       "      <td>Pos001</td>\n",
       "      <td>001</td>\n",
       "    </tr>\n",
       "    <tr>\n",
       "      <th>2</th>\n",
       "      <td>Pos001-001</td>\n",
       "      <td>Pos001CFP-2.tif:0003-0692-0335:3</td>\n",
       "      <td>472</td>\n",
       "      <td>334.661</td>\n",
       "      <td>691.919</td>\n",
       "      <td>1</td>\n",
       "      <td>3</td>\n",
       "      <td>Pos001</td>\n",
       "      <td>001</td>\n",
       "    </tr>\n",
       "    <tr>\n",
       "      <th>3</th>\n",
       "      <td>Pos001-001</td>\n",
       "      <td>Pos001CFP-2.tif:0004-0680-0328:4</td>\n",
       "      <td>317</td>\n",
       "      <td>328.197</td>\n",
       "      <td>679.162</td>\n",
       "      <td>0</td>\n",
       "      <td>4</td>\n",
       "      <td>Pos001</td>\n",
       "      <td>001</td>\n",
       "    </tr>\n",
       "    <tr>\n",
       "      <th>4</th>\n",
       "      <td>Pos001-001</td>\n",
       "      <td>Pos001CFP-2.tif:0005-0672-0317:5</td>\n",
       "      <td>190</td>\n",
       "      <td>317.247</td>\n",
       "      <td>672.684</td>\n",
       "      <td>0</td>\n",
       "      <td>5</td>\n",
       "      <td>Pos001</td>\n",
       "      <td>001</td>\n",
       "    </tr>\n",
       "  </tbody>\n",
       "</table>\n",
       "</div>"
      ],
      "text/plain": [
       "         name                             Label  Area        X        Y  \\\n",
       "0  Pos001-001  Pos001CFP-2.tif:0001-0651-0302:1   473  302.196  651.117   \n",
       "1  Pos001-001  Pos001CFP-2.tif:0002-0688-0324:2   436  324.420  688.135   \n",
       "2  Pos001-001  Pos001CFP-2.tif:0003-0692-0335:3   472  334.661  691.919   \n",
       "3  Pos001-001  Pos001CFP-2.tif:0004-0680-0328:4   317  328.197  679.162   \n",
       "4  Pos001-001  Pos001CFP-2.tif:0005-0672-0317:5   190  317.247  672.684   \n",
       "\n",
       "   Division  frame Position cell_id  \n",
       "0         0      1   Pos001     001  \n",
       "1         0      2   Pos001     001  \n",
       "2         1      3   Pos001     001  \n",
       "3         0      4   Pos001     001  \n",
       "4         0      5   Pos001     001  "
      ]
     },
     "execution_count": 2,
     "metadata": {},
     "output_type": "execute_result"
    }
   ],
   "source": [
    "logs_output.head()"
   ]
  },
  {
   "cell_type": "markdown",
   "metadata": {},
   "source": [
    "## 5) Show me the shape of your data"
   ]
  },
  {
   "cell_type": "code",
   "execution_count": null,
   "metadata": {},
   "outputs": [],
   "source": []
  },
  {
   "cell_type": "markdown",
   "metadata": {},
   "source": [
    "## 6) Show me the proportion of missing observations for each column of your data"
   ]
  },
  {
   "cell_type": "code",
   "execution_count": null,
   "metadata": {},
   "outputs": [],
   "source": []
  },
  {
   "cell_type": "markdown",
   "metadata": {},
   "source": [
    "## 7) Give me a problem statement.\n",
    "Below, write a problem statement. Keep in mind that your task is to tease out relationships in your data and eventually build a predictive model. Your problem statement can be vague, but you should have a goal in mind. Your problem statement should be between one sentence and one paragraph."
   ]
  }
 ],
 "metadata": {
  "kernelspec": {
   "display_name": "Python 3",
   "language": "python",
   "name": "python3"
  },
  "language_info": {
   "codemirror_mode": {
    "name": "ipython",
    "version": 3
   },
   "file_extension": ".py",
   "mimetype": "text/x-python",
   "name": "python",
   "nbconvert_exporter": "python",
   "pygments_lexer": "ipython3",
   "version": "3.7.4"
  }
 },
 "nbformat": 4,
 "nbformat_minor": 4
}
