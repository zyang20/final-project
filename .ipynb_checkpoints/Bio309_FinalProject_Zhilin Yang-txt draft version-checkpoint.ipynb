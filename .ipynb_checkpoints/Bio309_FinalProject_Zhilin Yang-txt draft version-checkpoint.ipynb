{
 "cells": [
  {
   "cell_type": "markdown",
   "metadata": {},
   "source": [
    "### 1. Find all 'Posxx-xx.txt' files in the sub_folder called ROI_dir_name"
   ]
  },
  {
   "cell_type": "code",
   "execution_count": null,
   "metadata": {
    "scrolled": true
   },
   "outputs": [],
   "source": [
    "import pandas as pd\n",
    "from pathlib import Path\n",
    "ROI_dir_name = 'ROI'\n",
    "\n",
    "#Find all 'Posxx-xx.txt files in the sub_folder ROI_dir_name'\n",
    "logs = pd.DataFrame()\n",
    "ROI_path = Path(ROI_dir_name)\n",
    "\n",
    "# Open the 'Posxx-xx.txt' files and extract info from filename and contents\n",
    "for file in ROI_path.glob('Pos*-*.txt'):\n",
    "    data = pd.read_csv(file, delimiter='\\s+')\n",
    "    #add a new column that stores filenames\n",
    "    data.insert(0,'name',file.stem)\n",
    "    logs = logs.append(data, ignore_index=True)\n",
    "\n",
    "# extract 'frame' 'Position' 'cell_id' from the files\n",
    "logs['frame'] = (logs['Label'].str.extract(r'tif.[0-9]{1,4}-[0-9]{1,4}-[0-9]{1,4}:(?P<frame>\\d{1,3})')).astype(int)\n",
    "logs[['Position','cell_id']] = logs['name'].str.extract(r'(?P<Pos>Pos[0-9]{1,3})-(?P<id>[0-9]{1,3})')\n",
    "logs_output = logs.drop_duplicates(subset=['name', 'frame'],keep='last',ignore_index=True)\n",
    "\n",
    "# find out the duplicates and only keep the last one\n",
    "duplicateRowsDF = logs[logs.duplicated(subset=['name', 'frame'],keep='last')]\n",
    "#duplicateRowsDF = logs[logs.duplicated(subset=['name', 'frame'],keep=False)]\n",
    "print(\"Duplicate Rows based on a single column are:\", duplicateRowsDF, sep='\\n')"
   ]
  },
  {
   "cell_type": "code",
   "execution_count": null,
   "metadata": {},
   "outputs": [],
   "source": [
    "logs_output.head()"
   ]
  },
  {
   "cell_type": "code",
   "execution_count": null,
   "metadata": {},
   "outputs": [],
   "source": [
    "logs_output.groupby(['Position','frame']).size()"
   ]
  },
  {
   "cell_type": "markdown",
   "metadata": {},
   "source": [
    "### Make a"
   ]
  },
  {
   "cell_type": "code",
   "execution_count": null,
   "metadata": {},
   "outputs": [],
   "source": [
    "(logs_output[(logs_output['Position']=='Pos001')])['cell_id'].nunique()"
   ]
  },
  {
   "cell_type": "code",
   "execution_count": null,
   "metadata": {},
   "outputs": [],
   "source": [
    "logs_output[(logs_output['Position']=='Pos001') "
   ]
  },
  {
   "cell_type": "code",
   "execution_count": null,
   "metadata": {},
   "outputs": [],
   "source": [
    "this_frame_df = logs_output[(logs_output['Position']=='Pos001') & (logs_output['frame']==1+1)]\n",
    "grouped_frame = this_frame_df.groupby('frame')\n",
    "\n",
    "this_frame_df"
   ]
  },
  {
   "cell_type": "code",
   "execution_count": null,
   "metadata": {},
   "outputs": [],
   "source": [
    "logs_output[(logs_output['Position']=='Pos001')]['frame']"
   ]
  },
  {
   "cell_type": "code",
   "execution_count": null,
   "metadata": {},
   "outputs": [],
   "source": [
    "for key, item in grouped_frame:#key is the unique(plot_id)\n",
    "    #print(grouped_frame.get_group(key),'\\n\\n')\n",
    "    print(key)"
   ]
  },
  {
   "cell_type": "code",
   "execution_count": null,
   "metadata": {},
   "outputs": [],
   "source": [
    "grouped_df = logs_output.groupby('Position')\n",
    "\n",
    "for key, item in grouped_df:#key is the unique(grouped_df)\n",
    "    print(logs_output.get_group(key),'\\n\\n')"
   ]
  },
  {
   "cell_type": "code",
   "execution_count": null,
   "metadata": {},
   "outputs": [],
   "source": [
    "xr=cm.rainbow(np.linspace(0,1,23))\n",
    "xr[22]"
   ]
  },
  {
   "cell_type": "code",
   "execution_count": null,
   "metadata": {},
   "outputs": [],
   "source": [
    "import imageio #Read the multiframe.tiff movie\n",
    "import matplotlib.pyplot as plt \n",
    "import numpy as np\n",
    "%matplotlib inline\n",
    "from matplotlib import cm\n",
    "from pathlib import Path\n",
    "\n",
    "movie_dir_name = 'Movie'\n",
    "interval = 20\n",
    "channel = 'CFP'\n",
    "            \n",
    "\n",
    "unique_position = logs_output['Position'].unique()\n",
    "\n",
    "#def annotate(row, ax):\n",
    " #   this_frame_df = logs_output[(logs_output['Position']=='Pos001') & (logs_output['frame']==(j+1))]\n",
    "  #  ax.annotate(row.label, (row.X, row.Y), xytext=(10, -5), textcoords='offset points')\n",
    "\n",
    "#for each posxxCFP.tif movie\n",
    "for pos in unique_position:\n",
    "    movie_name = f'{pos}{channel}.tif'\n",
    "    print(movie_name)\n",
    "    movie_dir = Path(movie_dir_name)#Make a path object\n",
    "    vol = imageio.volread(movie_dir / movie_name)# define movie path 'Movie/Pos100CFP.tif'\n",
    "    nslices,x_size,y_size = vol.shape #number of elements along each axis\n",
    "    \n",
    "    num_cells_this_position = (logs_output[(logs_output['Position']=='Pos001')])['cell_id'].nunique()                                                              \n",
    "    cellid_color = cm.rainbow(np.linspace(0,1,num_cells_this_position))\n",
    "        \n",
    "     #show frame by frame\n",
    "    for j in range(nslices):  \n",
    "        image=vol[j]#starts from slice 0\n",
    "        \n",
    "        plt.imshow(image,'gray')\n",
    "        #plt.title(this_movie_name)\n",
    "        plt.axis('off')\n",
    "        #Labell all cell_ids for each frame\n",
    "        style=dict(size=12,color='white')\n",
    "        #time = '{0:.1f}'.format(j*interval/60) #20min/frame, in the unit of hour\n",
    "        time_label = f'{(j*interval/60):.1f}hr' \n",
    "        plt.text(200,50,time_label,ha='right',**style)\n",
    "\n",
    "        #label all cell for this frame\n",
    "        #find cells in this position\n",
    "        #this_frame_df = logs_output[(logs_output['Position']==pos & (logs_output['frame']==(j+1)]\n",
    "        \n",
    "        #frames = logs_output.at[this_position_index[n],'frames']\n",
    "\n",
    "        if (j+1 in logs_output[(logs_output['Position']=='Pos001')]['frame'])==True:\n",
    "            this_frame_df = logs_output[(logs_output['Position']==pos) & (logs_output['frame']==j+1)]         \n",
    "            Xs = this_frame_df['X']\n",
    "            Ys = this_frame_df['Y']     \n",
    "            cell_ids = this_frame_df['cell_id']\n",
    "                                                           \n",
    "            for x,y,cell_id in zip(Xs,Ys,cell_ids):\n",
    "                plt.annotate(label, # this is the text\n",
    "                 (x,y), # this is the point to label\n",
    "                 color = cellid_color[int(cell_id)-1],\n",
    "                 textcoords=\"offset points\", # how to position the text\n",
    "                 xytext=(0,10), # distance from text to points (x,y)\n",
    "                 ha='center') # horizontal alignment can be left, right or center\n",
    "        else:\n",
    "            continue\n",
    "        plt.show()\n",
    "        plt.close()\n",
    "    "
   ]
  },
  {
   "cell_type": "code",
   "execution_count": null,
   "metadata": {},
   "outputs": [],
   "source": []
  },
  {
   "cell_type": "code",
   "execution_count": null,
   "metadata": {},
   "outputs": [],
   "source": [
    "def imageshow(movie_dir_name,this_movie_name,logs_output, interval, this_position_index,cmap_type='gray'):\n",
    "    \"\"\"ddd\"\"\"\n",
    "    import imageio #Read the multiframe.tiff movie\n",
    "    import matplotlib.pyplot as plt \n",
    "    %matplotlib inline\n",
    "    from matplotlib import cm\n",
    "    from pathlib import Path\n",
    "    \n",
    "    movie_dir=Path(movie_dir_name)#Make a path object\n",
    "    vol = imageio.volread(movie_dir / this_movie_name)# define movie path 'Movie/Pos100CFP.tif'\n",
    "    nslices,x_size,y_size = vol.shape #number of elements along each axis\n",
    "    \n",
    "    #fig=plt.figure()\n",
    "    #show frame by frame\n",
    "    for j in range(nslices):  \n",
    "        image=vol[j]#starts from slice 0\n",
    "        \n",
    "        plt.imshow(image,cmap_type)\n",
    "        #plt.title(this_movie_name)\n",
    "        plt.axis('off')\n",
    "        #Labell all cell_ids for each frame\n",
    "        style=dict(size=12,color='white')\n",
    "        this_time = '{0:.1f}'.format(j*interval/60) #20min/frame, in the unit of hour\n",
    "        time_label = ('%shr' %(this_time))\n",
    "        plt.text(200,50,time_label,ha='right',**style)\n",
    "\n",
    "        #label all cell for this frame\n",
    "        num_cells_this_position = len(this_position_index)\n",
    "        cellid_color=iter(cm.rainbow(np.linspace(0,1,num_cells_this_position)))\n",
    "        #\n",
    "        for n in range(num_cells_this_position):\n",
    "            cell_id = logs_output.at[this_position_index[n],'cell_id']\n",
    "            #find the index of slice j from data frame\n",
    "            frames = logs_output.at[this_position_index[n],'frames']\n",
    "            if (j+1 in frames)==True:\n",
    "                this_frame_index = frames.index(j+1)#\n",
    "                x_coor = logs_output.at[this_position_index[n],'x_coor'][this_frame_index]\n",
    "                y_coor = logs_output.at[this_position_index[n],'y_coor'][this_frame_index]\n",
    "                labelcolor = next(cellid_color)\n",
    "                plt.text(x_coor,y_coor,cell_id,ha='right',size=12,color = labelcolor)#all images were shown in the same fig\n",
    "            else:\n",
    "                continue\n",
    "        plt.show()\n",
    "        plt.close()\n",
    "        #fig.clear()\n",
    "            \n",
    "#for each slice, label filtered_cells for that position\n",
    "def plot_all_images(logs_output,movie_dir,channel,interval):\n",
    "    #Find all positions\n",
    "    unique_position = logs_output['Position'].unique().tolist() #['Pos01', 'Pos10']\n",
    "    num_position = len(unique_position)\n",
    "    #for each posxxCFP.tif movie\n",
    "    for i in range(num_position):\n",
    "        #\n",
    "        this_position = unique_position[i]  \n",
    "        this_movie_name = ('%s%s.tif' %(this_position,channel))\n",
    "        #find cells in this position\n",
    "        is_this_position = logs_output['Position']==this_position #dtype:bool\n",
    "        this_position_index = logs_output.index[is_this_position==True].tolist()#list of row#\n",
    "        #\n",
    "        imageshow(movie_dir,this_movie_name,logs_output,interval, this_position_index,cmap_type='gray')"
   ]
  },
  {
   "cell_type": "code",
   "execution_count": null,
   "metadata": {},
   "outputs": [],
   "source": [
    "def test():\n",
    "    ROI_dir_name = 'ROI_test'\n",
    "    movie_dir_name='Movie_test'#Make a path object\n",
    "    channel = 'CFP'\n",
    "    interval = 20 #min\n",
    "\n",
    "    logs_output = extract_all(ROI_dir_name,0)\n",
    "    plot_all_images(logs_output,movie_dir_name,channel,interval)"
   ]
  },
  {
   "cell_type": "code",
   "execution_count": null,
   "metadata": {},
   "outputs": [],
   "source": [
    "#test()"
   ]
  },
  {
   "cell_type": "code",
   "execution_count": null,
   "metadata": {},
   "outputs": [],
   "source": [
    "def makevideo_single(movie_dir,Tracking_dir,this_movie_name,logs_output,interval, this_position_index):\n",
    "    \"\"\"ddd\"\"\"\n",
    "    import imageio #Read the multiframe.tiff movie\n",
    "    import matplotlib.pyplot as plt \n",
    "    %matplotlib inline\n",
    "    from matplotlib import cm\n",
    "    from pathlib import Path\n",
    "    #information for accessing the original movie\n",
    "    vol = imageio.volread(movie_dir / this_movie_name)# define movie path 'Movie/Pos100CFP.tif'\n",
    "    nslices,x_size,y_size = vol.shape #number of elements along each axis\n",
    "    \n",
    "    #setup for videowriter\n",
    "    import numpy as np\n",
    "    import matplotlib\n",
    "    matplotlib.use(\"Agg\")\n",
    "    import matplotlib.pyplot as plt\n",
    "    import matplotlib.animation as manimation\n",
    "    #For the 1st time, install FFMPEG by uncommeting the line below\n",
    "    #pip install imageio-ffmpeg\n",
    "    FFMpegWriter = manimation.writers['ffmpeg']\n",
    "    metadata = dict(title=this_movie_name, artist='Matplotlib',\n",
    "                    comment='Movie support!')\n",
    "    writer = FFMpegWriter(fps=5, metadata=metadata)\n",
    "\n",
    "    fig = plt.figure()\n",
    "    \n",
    "    this_video_name = this_movie_name.replace(\".tif\",\".mp4\")       \n",
    "    this_video_path = str(Tracking_dir / this_video_name)\n",
    "    with writer.saving(fig, this_video_path, 300):\n",
    "    #(fig,movie name, resolution)\n",
    "    \n",
    "        #show frame by frame\n",
    "        for j in range(nslices):  \n",
    "            image=vol[j]#starts from slice 0\n",
    "\n",
    "            plt.imshow(image,cmap='gray')\n",
    "            #plt.title(this_movie_name)\n",
    "            plt.axis('off')\n",
    "            #Labell all cell_ids for each frame\n",
    "            style=dict(size=8,color='white')\n",
    "            this_time = '{0:.1f}'.format(j*interval/60) #20min/frame, in the unit of hour\n",
    "            time_label = ('%shr' %(this_time))\n",
    "            plt.text(150,50,time_label,ha='left',**style)\n",
    "\n",
    "            #label all cell for this frame\n",
    "            num_cells_this_position = len(this_position_index)\n",
    "            cellid_color=iter(cm.rainbow(np.linspace(0,1,num_cells_this_position)))\n",
    "            #\n",
    "            for n in range(num_cells_this_position):\n",
    "                cell_id = logs_output.at[this_position_index[n],'cell_id']\n",
    "                #find the index of slice j from data frame\n",
    "                frames = logs_output.at[this_position_index[n],'frames']\n",
    "                if (j+1 in frames)==True:\n",
    "                    #this_frame_index = frames.index(j+1)#works if there is no repeat\n",
    "                    this_frame_index = max(idx for idx,val in enumerate(frames) if val ==(j+1))\n",
    "                    x_coor = logs_output.at[this_position_index[n],'x_coor'][this_frame_index]\n",
    "                    y_coor = logs_output.at[this_position_index[n],'y_coor'][this_frame_index]\n",
    "                    labelcolor = next(cellid_color)\n",
    "                    plt.text(x_coor,y_coor,cell_id,ha='left',size=8,color = labelcolor)#all images were shown in the same fig\n",
    "                else:\n",
    "                    continue\n",
    "            #plt.show() #Agg is non-GUI backend, so cannot show the figure\n",
    "            writer.grab_frame()  \n",
    "            fig.clear()\n",
    "        fig.clear()\n",
    "            \n",
    "#for each slice, label filtered_cells for that position\n",
    "def makevideo_all(logs_output,movie_dir_name,channel,interval):\n",
    "    from pathlib import Path\n",
    "    Tracking_dir = Path(\"Trackingvideos\")#can't make a path if it exists already\n",
    "    if Tracking_dir.exists():\n",
    "        print(\"Tracking_dir exists\")\n",
    "    else:\n",
    "        print(\"Make Tracking_dir\")\n",
    "        Tracking_dir.mkdir()\n",
    "    movie_dir=Path(movie_dir_name)#Make a path object\n",
    "    \n",
    "    #Find all positions\n",
    "    unique_position = logs_output['Position'].unique().tolist() #['Pos01', 'Pos10']\n",
    "    num_position = len(unique_position)\n",
    "    #for each posxxCFP.tif movie\n",
    "    for i in range(num_position):\n",
    "        #\n",
    "        this_position = unique_position[i]  \n",
    "        this_movie_name = ('%s%s.tif' %(this_position,channel))\n",
    "        #find cells in this position\n",
    "        is_this_position = logs_output['Position']==this_position #dtype:bool\n",
    "        this_position_index = logs_output.index[is_this_position==True].tolist()#list of row#\n",
    "        \n",
    "        #      \n",
    "        makevideo_single(movie_dir,Tracking_dir,this_movie_name,logs_output,interval, this_position_index)"
   ]
  },
  {
   "cell_type": "markdown",
   "metadata": {},
   "source": [
    "# Final analysis"
   ]
  },
  {
   "cell_type": "code",
   "execution_count": null,
   "metadata": {},
   "outputs": [],
   "source": [
    "ROI_dir_name = 'ROI'\n",
    "movie_dir_name='Movie'#Make a path object\n",
    "channel = 'CFP'\n",
    "interval = 20 #min\n",
    "\n",
    "logs_output = extract_all(ROI_dir_name,0)\n",
    "makevideo_all(logs_output,movie_dir_name,channel,interval)"
   ]
  }
 ],
 "metadata": {
  "kernelspec": {
   "display_name": "Python 3",
   "language": "python",
   "name": "python3"
  },
  "language_info": {
   "codemirror_mode": {
    "name": "ipython",
    "version": 3
   },
   "file_extension": ".py",
   "mimetype": "text/x-python",
   "name": "python",
   "nbconvert_exporter": "python",
   "pygments_lexer": "ipython3",
   "version": "3.7.4"
  }
 },
 "nbformat": 4,
 "nbformat_minor": 4
}
