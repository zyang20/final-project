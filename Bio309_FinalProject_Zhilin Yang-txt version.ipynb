{
 "cells": [
  {
   "cell_type": "markdown",
   "metadata": {},
   "source": [
    "### 1. Find all 'Posxx-xx.txt' files in the sub_folder called ROI_dir_name"
   ]
  },
  {
   "cell_type": "code",
   "execution_count": 33,
   "metadata": {
    "scrolled": true
   },
   "outputs": [],
   "source": [
    "def find_all_ROI(ROI_dir_name,fileextension='.txt'):\n",
    "    \"\"\"input:\n",
    "             ROI_dir_name\"\"\"\n",
    "    from pathlib import Path\n",
    "    ROI_path=Path(ROI_dir_name)#Make a path object\n",
    "    ROI=list(ROI_path.glob('Pos*%s' %(fileextension)))#WindowsPath('ROI/Pos001-001.txt'), need to str(x) when saving in windows\n",
    "    return ROI"
   ]
  },
  {
   "cell_type": "code",
   "execution_count": 58,
   "metadata": {},
   "outputs": [
    {
     "data": {
      "text/plain": [
       "[WindowsPath('ROI_test/Pos10-02.txt')]"
      ]
     },
     "execution_count": 58,
     "metadata": {},
     "output_type": "execute_result"
    }
   ],
   "source": [
    "find_all_ROI('ROI_test',fileextension='.txt')[0:2]"
   ]
  },
  {
   "cell_type": "markdown",
   "metadata": {},
   "source": [
    "### 2: Open the 'Posxx-xx.txt' files and extract info from filename and contents"
   ]
  },
  {
   "cell_type": "code",
   "execution_count": 59,
   "metadata": {},
   "outputs": [
    {
     "data": {
      "text/html": [
       "<div>\n",
       "<style scoped>\n",
       "    .dataframe tbody tr th:only-of-type {\n",
       "        vertical-align: middle;\n",
       "    }\n",
       "\n",
       "    .dataframe tbody tr th {\n",
       "        vertical-align: top;\n",
       "    }\n",
       "\n",
       "    .dataframe thead th {\n",
       "        text-align: right;\n",
       "    }\n",
       "</style>\n",
       "<table border=\"1\" class=\"dataframe\">\n",
       "  <thead>\n",
       "    <tr style=\"text-align: right;\">\n",
       "      <th></th>\n",
       "      <th></th>\n",
       "      <th>Label</th>\n",
       "      <th>Area</th>\n",
       "      <th>X</th>\n",
       "      <th>Y</th>\n",
       "    </tr>\n",
       "  </thead>\n",
       "  <tbody>\n",
       "    <tr>\n",
       "      <td>0</td>\n",
       "      <td>1</td>\n",
       "      <td>Pos10CFP.tif:0001-0661-0558:1</td>\n",
       "      <td>361</td>\n",
       "      <td>558.924</td>\n",
       "      <td>660.467</td>\n",
       "    </tr>\n",
       "    <tr>\n",
       "      <td>1</td>\n",
       "      <td>2</td>\n",
       "      <td>Pos10CFP.tif:0002-0669-0553:2</td>\n",
       "      <td>366</td>\n",
       "      <td>553.929</td>\n",
       "      <td>668.574</td>\n",
       "    </tr>\n",
       "  </tbody>\n",
       "</table>\n",
       "</div>"
      ],
      "text/plain": [
       "                              Label  Area        X        Y\n",
       "0  1  Pos10CFP.tif:0001-0661-0558:1   361  558.924  660.467\n",
       "1  2  Pos10CFP.tif:0002-0669-0553:2   366  553.929  668.574"
      ]
     },
     "execution_count": 59,
     "metadata": {},
     "output_type": "execute_result"
    }
   ],
   "source": [
    "import pandas as pd\n",
    "pd.read_table(find_all_ROI('ROI_test',fileextension='.txt')[0]).head(2)"
   ]
  },
  {
   "cell_type": "code",
   "execution_count": 39,
   "metadata": {},
   "outputs": [],
   "source": [
    "def get_Pos_cellid(this_file):\n",
    "    \"\"\"get_Pos_cellid(this_file) function extracts Postion and cell_id from the filename of 'Posxx-xx.txt'\"\"\"\n",
    "    import re\n",
    "    input = this_file.name # e.g: Pos10-01.txt\n",
    "    output = re.search(r\"(?P<Position>Pos[0-9]{1,3})-(?P<cell_id>[0-9]{1,3}).txt\",input)\n",
    "    Pos = output.group('Position')\n",
    "    cellid = output.group('cell_id') \n",
    "    #return (Pos,cellid)\n",
    "    #use namedtuple to return Pos, cellid\n",
    "    from collections import namedtuple\n",
    "    Features = namedtuple('Features',['Pos','cellid'])\n",
    "    extractedinfo = Features(Pos=Pos,cellid=cellid)\n",
    "    return(extractedinfo)"
   ]
  },
  {
   "cell_type": "code",
   "execution_count": 65,
   "metadata": {},
   "outputs": [
    {
     "data": {
      "text/plain": [
       "'001'"
      ]
     },
     "execution_count": 65,
     "metadata": {},
     "output_type": "execute_result"
    }
   ],
   "source": [
    "get_Pos_cellid(find_all_ROI('ROI',fileextension='.txt')[0]).cellid"
   ]
  },
  {
   "cell_type": "code",
   "execution_count": 73,
   "metadata": {},
   "outputs": [],
   "source": [
    "def get_x_y_frames(this_file):\n",
    "    \"\"\"get_x_y_frames (this_file) function extracts 'x_coor','y_coor' and 'Label' from the file content;\n",
    "    and then extract 'frames' from Label 'Pos10CFP.tif:0001-0575-0555:1'\n",
    "    output 'frames' = [1,2,3]\"\"\"\n",
    "    import re\n",
    "    \n",
    "    #this_data=pd.read_table(this_file)\n",
    "    this_data=pd.read_csv(this_file,delimiter='\\t')\n",
    "    Label=this_data['Label']\n",
    "    x=list(this_data['X'])#converting to list with number from txt file results in sciprecision\n",
    "    y=list(this_data['Y'])\n",
    "\n",
    "    num_label = len(Label)\n",
    "    frames=[] \n",
    "    for i in range(num_label):\n",
    "        input = Label[i] # e.g: Pos01CFP.tif:0001-0450-0596:1\n",
    "        regularexpression=r\"tif.(?P<f>[0-9]{1,4})-(?P<x>[0-9]{1,4})-(?P<y>[0-9]{1,4}):(?P<frame>[0-9]{1,3})\"\n",
    "        output=re.search(regularexpression,input)\n",
    "        frame=output.group('frame')\n",
    "        frames.append(int(frame))\n",
    "        \n",
    "    #return(x,y,frames)  \n",
    "    #use namedtuple to store x,y,frames to tuple \n",
    "    from collections import namedtuple\n",
    "    Features = namedtuple('Features',['x','y','frames'])\n",
    "    extractedinfo = Features(x=x,y=y,frames=frames)\n",
    "    return(extractedinfo)"
   ]
  },
  {
   "cell_type": "code",
   "execution_count": 75,
   "metadata": {},
   "outputs": [],
   "source": [
    "import numpy as np\n",
    "def extract_all(ROI_dir_name,check_or_not):\n",
    "    \"\"\"extract_all(ROI_dir_name,check_or_not) function extracts all required information from both filename and filecotents \n",
    "    of all files in the format of ROI/Pos01-01.txt' \"\"\"\n",
    "    \n",
    "    ROI = find_all_ROI(ROI_dir_name,fileextension='.txt') #e.g 'ROI/Pos01-01.txt','ROI/Pos12-01.txt''\n",
    "    \n",
    "    Position=[]\n",
    "    cell_id=[]\n",
    "    x_coor=[]\n",
    "    y_coor=[]\n",
    "    frames=[]\n",
    "    number_files = len(ROI)\n",
    "    \n",
    "    for i in range(number_files): \n",
    "        this_file = ROI[i]\n",
    "        #partA = get_Pos_cellid(this_file)\n",
    "        Position.append(get_Pos_cellid(this_file).Pos)\n",
    "        cell_id.append(get_Pos_cellid(this_file).cellid)\n",
    "        x_coor.append(get_x_y_frames(this_file).x)\n",
    "        y_coor.append(get_x_y_frames(this_file).y)\n",
    "        frames.append(get_x_y_frames(this_file).frames)\n",
    "    \n",
    "    if check_or_not==1:\n",
    "       return (Position,cell_id,x_coor,y_coor,frames)\n",
    "    else:\n",
    "       #extract Position and cell_id from the name 'Posxx-xx.txt' itself\n",
    "       log_output = {'Position':Position,'cell_id':cell_id,'frames':frames,'x_coor':x_coor,'y_coor':y_coor}\n",
    "       dfa = pd.DataFrame(log_output)\n",
    "       return dfa"
   ]
  },
  {
   "cell_type": "code",
   "execution_count": 76,
   "metadata": {},
   "outputs": [
    {
     "data": {
      "text/plain": [
       "(['Pos10'],\n",
       " ['02'],\n",
       " [[558.924, 553.929, 548.5790000000001, 537.885, 518.58]],\n",
       " [[660.467, 668.574, 673.39, 677.296, 684.414]],\n",
       " [[1, 2, 3, 4, 5]])"
      ]
     },
     "execution_count": 76,
     "metadata": {},
     "output_type": "execute_result"
    }
   ],
   "source": [
    "extract_all('ROI_test',1)"
   ]
  },
  {
   "cell_type": "code",
   "execution_count": 60,
   "metadata": {},
   "outputs": [
    {
     "data": {
      "text/html": [
       "<div>\n",
       "<style scoped>\n",
       "    .dataframe tbody tr th:only-of-type {\n",
       "        vertical-align: middle;\n",
       "    }\n",
       "\n",
       "    .dataframe tbody tr th {\n",
       "        vertical-align: top;\n",
       "    }\n",
       "\n",
       "    .dataframe thead th {\n",
       "        text-align: right;\n",
       "    }\n",
       "</style>\n",
       "<table border=\"1\" class=\"dataframe\">\n",
       "  <thead>\n",
       "    <tr style=\"text-align: right;\">\n",
       "      <th></th>\n",
       "      <th>Position</th>\n",
       "      <th>cell_id</th>\n",
       "      <th>frames</th>\n",
       "      <th>x_coor</th>\n",
       "      <th>y_coor</th>\n",
       "    </tr>\n",
       "  </thead>\n",
       "  <tbody>\n",
       "    <tr>\n",
       "      <td>0</td>\n",
       "      <td>Pos10</td>\n",
       "      <td>02</td>\n",
       "      <td>[1, 2, 3, 4, 5]</td>\n",
       "      <td>[558.924, 553.929, 548.5790000000001, 537.885,...</td>\n",
       "      <td>[660.467, 668.574, 673.39, 677.296, 684.414]</td>\n",
       "    </tr>\n",
       "  </tbody>\n",
       "</table>\n",
       "</div>"
      ],
      "text/plain": [
       "  Position cell_id           frames  \\\n",
       "0    Pos10      02  [1, 2, 3, 4, 5]   \n",
       "\n",
       "                                              x_coor  \\\n",
       "0  [558.924, 553.929, 548.5790000000001, 537.885,...   \n",
       "\n",
       "                                         y_coor  \n",
       "0  [660.467, 668.574, 673.39, 677.296, 684.414]  "
      ]
     },
     "execution_count": 60,
     "metadata": {},
     "output_type": "execute_result"
    }
   ],
   "source": [
    "extract_all('ROI_test',0).head(1)"
   ]
  },
  {
   "cell_type": "code",
   "execution_count": 63,
   "metadata": {},
   "outputs": [
    {
     "data": {
      "text/plain": [
       "[558.924, 553.929, 548.5790000000001, 537.885, 518.58]"
      ]
     },
     "execution_count": 63,
     "metadata": {},
     "output_type": "execute_result"
    }
   ],
   "source": [
    "extract_all('ROI_test',0)['x_coor'][0]"
   ]
  },
  {
   "cell_type": "code",
   "execution_count": 9,
   "metadata": {},
   "outputs": [
    {
     "data": {
      "text/plain": [
       "'001'"
      ]
     },
     "execution_count": 9,
     "metadata": {},
     "output_type": "execute_result"
    }
   ],
   "source": [
    "extract_all('ROI',0).at[0,'cell_id']"
   ]
  },
  {
   "cell_type": "code",
   "execution_count": 10,
   "metadata": {},
   "outputs": [
    {
     "data": {
      "text/plain": [
       "str"
      ]
     },
     "execution_count": 10,
     "metadata": {},
     "output_type": "execute_result"
    }
   ],
   "source": [
    "type(extract_all('ROI',0).at[0,'cell_id'])"
   ]
  },
  {
   "cell_type": "markdown",
   "metadata": {},
   "source": [
    "### Make a"
   ]
  },
  {
   "cell_type": "code",
   "execution_count": 11,
   "metadata": {},
   "outputs": [],
   "source": [
    "def imageshow(movie_dir_name,this_movie_name,logs_output, interval, this_position_index,cmap_type='gray'):\n",
    "    \"\"\"ddd\"\"\"\n",
    "    import imageio #Read the multiframe.tiff movie\n",
    "    import matplotlib.pyplot as plt \n",
    "    %matplotlib inline\n",
    "    from matplotlib import cm\n",
    "    from pathlib import Path\n",
    "    \n",
    "    movie_dir=Path(movie_dir_name)#Make a path object\n",
    "    vol = imageio.volread(movie_dir / this_movie_name)# define movie path 'Movie/Pos100CFP.tif'\n",
    "    nslices,x_size,y_size = vol.shape #number of elements along each axis\n",
    "    \n",
    "    #fig=plt.figure()\n",
    "    #show frame by frame\n",
    "    for j in range(nslices):  \n",
    "        image=vol[j]#starts from slice 0\n",
    "        \n",
    "        plt.imshow(image,cmap_type)\n",
    "        #plt.title(this_movie_name)\n",
    "        plt.axis('off')\n",
    "        #Labell all cell_ids for each frame\n",
    "        style=dict(size=12,color='white')\n",
    "        this_time = '{0:.1f}'.format(j*interval/60) #20min/frame, in the unit of hour\n",
    "        time_label = ('%shr' %(this_time))\n",
    "        plt.text(200,50,time_label,ha='right',**style)\n",
    "\n",
    "        #label all cell for this frame\n",
    "        num_cells_this_position = len(this_position_index)\n",
    "        cellid_color=iter(cm.rainbow(np.linspace(0,1,num_cells_this_position)))\n",
    "        #\n",
    "        for n in range(num_cells_this_position):\n",
    "            cell_id = logs_output.at[this_position_index[n],'cell_id']\n",
    "            #find the index of slice j from data frame\n",
    "            frames = logs_output.at[this_position_index[n],'frames']\n",
    "            if (j+1 in frames)==True:\n",
    "                this_frame_index = frames.index(j+1)#\n",
    "                x_coor = logs_output.at[this_position_index[n],'x_coor'][this_frame_index]\n",
    "                y_coor = logs_output.at[this_position_index[n],'y_coor'][this_frame_index]\n",
    "                labelcolor = next(cellid_color)\n",
    "                plt.text(x_coor,y_coor,cell_id,ha='right',size=12,color = labelcolor)#all images were shown in the same fig\n",
    "            else:\n",
    "                continue\n",
    "        plt.show()\n",
    "        plt.close()\n",
    "        #fig.clear()\n",
    "            \n",
    "#for each slice, label filtered_cells for that position\n",
    "def plot_all_images(logs_output,movie_dir,channel,interval):\n",
    "    #Find all positions\n",
    "    unique_position = logs_output['Position'].unique().tolist() #['Pos01', 'Pos10']\n",
    "    num_position = len(unique_position)\n",
    "    #for each posxxCFP.tif movie\n",
    "    for i in range(num_position):\n",
    "        #\n",
    "        this_position = unique_position[i]  \n",
    "        this_movie_name = ('%s%s.tif' %(this_position,channel))\n",
    "        #find cells in this position\n",
    "        is_this_position = logs_output['Position']==this_position #dtype:bool\n",
    "        this_position_index = logs_output.index[is_this_position==True].tolist()#list of row#\n",
    "        #\n",
    "        imageshow(movie_dir,this_movie_name,logs_output,interval, this_position_index,cmap_type='gray')"
   ]
  },
  {
   "cell_type": "code",
   "execution_count": 12,
   "metadata": {},
   "outputs": [],
   "source": [
    "def test():\n",
    "    ROI_dir_name = 'ROI_test'\n",
    "    movie_dir_name='Movie_test'#Make a path object\n",
    "    channel = 'CFP'\n",
    "    interval = 20 #min\n",
    "\n",
    "    logs_output = extract_all(ROI_dir_name,0)\n",
    "    plot_all_images(logs_output,movie_dir_name,channel,interval)"
   ]
  },
  {
   "cell_type": "code",
   "execution_count": 13,
   "metadata": {},
   "outputs": [],
   "source": [
    "#test()"
   ]
  },
  {
   "cell_type": "code",
   "execution_count": 14,
   "metadata": {},
   "outputs": [],
   "source": [
    "def makevideo_single(movie_dir,Tracking_dir,this_movie_name,logs_output,interval, this_position_index):\n",
    "    \"\"\"ddd\"\"\"\n",
    "    import imageio #Read the multiframe.tiff movie\n",
    "    import matplotlib.pyplot as plt \n",
    "    %matplotlib inline\n",
    "    from matplotlib import cm\n",
    "    from pathlib import Path\n",
    "    #information for accessing the original movie\n",
    "    vol = imageio.volread(movie_dir / this_movie_name)# define movie path 'Movie/Pos100CFP.tif'\n",
    "    nslices,x_size,y_size = vol.shape #number of elements along each axis\n",
    "    \n",
    "    #setup for videowriter\n",
    "    import numpy as np\n",
    "    import matplotlib\n",
    "    matplotlib.use(\"Agg\")\n",
    "    import matplotlib.pyplot as plt\n",
    "    import matplotlib.animation as manimation\n",
    "    #For the 1st time, install FFMPEG by uncommeting the line below\n",
    "    #pip install imageio-ffmpeg\n",
    "    FFMpegWriter = manimation.writers['ffmpeg']\n",
    "    metadata = dict(title=this_movie_name, artist='Matplotlib',\n",
    "                    comment='Movie support!')\n",
    "    writer = FFMpegWriter(fps=5, metadata=metadata)\n",
    "\n",
    "    fig = plt.figure()\n",
    "    \n",
    "    this_video_name = this_movie_name.replace(\".tif\",\".mp4\")       \n",
    "    this_video_path = str(Tracking_dir / this_video_name)\n",
    "    with writer.saving(fig, this_video_path, 300):\n",
    "    #(fig,movie name, resolution)\n",
    "    \n",
    "        #show frame by frame\n",
    "        for j in range(nslices):  \n",
    "            image=vol[j]#starts from slice 0\n",
    "\n",
    "            plt.imshow(image,cmap='gray')\n",
    "            #plt.title(this_movie_name)\n",
    "            plt.axis('off')\n",
    "            #Labell all cell_ids for each frame\n",
    "            style=dict(size=8,color='white')\n",
    "            this_time = '{0:.1f}'.format(j*interval/60) #20min/frame, in the unit of hour\n",
    "            time_label = ('%shr' %(this_time))\n",
    "            plt.text(150,50,time_label,ha='left',**style)\n",
    "\n",
    "            #label all cell for this frame\n",
    "            num_cells_this_position = len(this_position_index)\n",
    "            cellid_color=iter(cm.rainbow(np.linspace(0,1,num_cells_this_position)))\n",
    "            #\n",
    "            for n in range(num_cells_this_position):\n",
    "                cell_id = logs_output.at[this_position_index[n],'cell_id']\n",
    "                #find the index of slice j from data frame\n",
    "                frames = logs_output.at[this_position_index[n],'frames']\n",
    "                if (j+1 in frames)==True:\n",
    "                    #this_frame_index = frames.index(j+1)#works if there is no repeat\n",
    "                    this_frame_index = max(idx for idx,val in enumerate(frames) if val ==(j+1))\n",
    "                    x_coor = logs_output.at[this_position_index[n],'x_coor'][this_frame_index]\n",
    "                    y_coor = logs_output.at[this_position_index[n],'y_coor'][this_frame_index]\n",
    "                    labelcolor = next(cellid_color)\n",
    "                    plt.text(x_coor,y_coor,cell_id,ha='left',size=8,color = labelcolor)#all images were shown in the same fig\n",
    "                else:\n",
    "                    continue\n",
    "            #plt.show() #Agg is non-GUI backend, so cannot show the figure\n",
    "            writer.grab_frame()  \n",
    "            fig.clear()\n",
    "        fig.clear()\n",
    "            \n",
    "#for each slice, label filtered_cells for that position\n",
    "def makevideo_all(logs_output,movie_dir_name,channel,interval):\n",
    "    from pathlib import Path\n",
    "    Tracking_dir = Path(\"Trackingvideos\")#can't make a path if it exists already\n",
    "    if Tracking_dir.exists():\n",
    "        print(\"Tracking_dir exists\")\n",
    "    else:\n",
    "        print(\"Make Tracking_dir\")\n",
    "        Tracking_dir.mkdir()\n",
    "    movie_dir=Path(movie_dir_name)#Make a path object\n",
    "    \n",
    "    #Find all positions\n",
    "    unique_position = logs_output['Position'].unique().tolist() #['Pos01', 'Pos10']\n",
    "    num_position = len(unique_position)\n",
    "    #for each posxxCFP.tif movie\n",
    "    for i in range(num_position):\n",
    "        #\n",
    "        this_position = unique_position[i]  \n",
    "        this_movie_name = ('%s%s.tif' %(this_position,channel))\n",
    "        #find cells in this position\n",
    "        is_this_position = logs_output['Position']==this_position #dtype:bool\n",
    "        this_position_index = logs_output.index[is_this_position==True].tolist()#list of row#\n",
    "        \n",
    "        #      \n",
    "        makevideo_single(movie_dir,Tracking_dir,this_movie_name,logs_output,interval, this_position_index)"
   ]
  },
  {
   "cell_type": "markdown",
   "metadata": {},
   "source": [
    "# Final analysis"
   ]
  },
  {
   "cell_type": "code",
   "execution_count": 15,
   "metadata": {},
   "outputs": [
    {
     "name": "stdout",
     "output_type": "stream",
     "text": [
      "Tracking_dir exists\n"
     ]
    },
    {
     "name": "stderr",
     "output_type": "stream",
     "text": [
      "posx and posy should be finite values\n"
     ]
    }
   ],
   "source": [
    "ROI_dir_name = 'ROI'\n",
    "movie_dir_name='Movie'#Make a path object\n",
    "channel = 'CFP'\n",
    "interval = 20 #min\n",
    "\n",
    "logs_output = extract_all(ROI_dir_name,0)\n",
    "makevideo_all(logs_output,movie_dir_name,channel,interval)"
   ]
  }
 ],
 "metadata": {
  "kernelspec": {
   "display_name": "Python 3",
   "language": "python",
   "name": "python3"
  },
  "language_info": {
   "codemirror_mode": {
    "name": "ipython",
    "version": 3
   },
   "file_extension": ".py",
   "mimetype": "text/x-python",
   "name": "python",
   "nbconvert_exporter": "python",
   "pygments_lexer": "ipython3",
   "version": "3.7.4"
  }
 },
 "nbformat": 4,
 "nbformat_minor": 2
}
